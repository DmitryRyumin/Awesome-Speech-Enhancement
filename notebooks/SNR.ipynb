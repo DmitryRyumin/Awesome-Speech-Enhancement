{
 "cells": [
  {
   "cell_type": "markdown",
   "id": "d11f6359-c4f0-425d-9cbb-eb655e387bff",
   "metadata": {},
   "source": [
    "## SNR: Signal-to-Noise Ratio\n",
    "\n",
    "<hr>"
   ]
  },
  {
   "cell_type": "markdown",
   "id": "d8e026b0-1527-49fc-ad74-187886c16214",
   "metadata": {},
   "source": [
    "### Version of Python"
   ]
  },
  {
   "cell_type": "code",
   "execution_count": 1,
   "id": "f36d3b68-51d7-4f03-8fcf-d7564222dd70",
   "metadata": {},
   "outputs": [
    {
     "name": "stdout",
     "output_type": "stream",
     "text": [
      "Python 3.10.11\n"
     ]
    }
   ],
   "source": [
    "!python --version"
   ]
  },
  {
   "cell_type": "markdown",
   "id": "0e375933-a493-49da-8f23-e762f1dcf95a",
   "metadata": {},
   "source": [
    "### Import required libraries"
   ]
  },
  {
   "cell_type": "code",
   "execution_count": 2,
   "id": "b118844f-79a1-4a72-9f59-2debacf3b9d7",
   "metadata": {},
   "outputs": [],
   "source": [
    "# Suppression of warnings\n",
    "import warnings\n",
    "for warn in [UserWarning, FutureWarning]: warnings.filterwarnings('ignore', category = warn)"
   ]
  },
  {
   "cell_type": "code",
   "execution_count": 3,
   "id": "babc8246-91c7-4e6f-a4f6-a8cba52f542f",
   "metadata": {},
   "outputs": [],
   "source": [
    "import os\n",
    "import torch\n",
    "import torchaudio\n",
    "import torchmetrics\n",
    "import numpy as np\n",
    "import pandas as pd\n",
    "import matplotlib\n",
    "import jupyterlab as jlab"
   ]
  },
  {
   "cell_type": "markdown",
   "id": "f8544445-a738-4704-afd8-cce404d5a24b",
   "metadata": {},
   "source": [
    "### Versions of required libraries"
   ]
  },
  {
   "cell_type": "code",
   "execution_count": 4,
   "id": "92b1f76b-f8dc-4ed0-a739-2491beeb170e",
   "metadata": {},
   "outputs": [
    {
     "data": {
      "text/html": [
       "<div>\n",
       "<style scoped>\n",
       "    .dataframe tbody tr th:only-of-type {\n",
       "        vertical-align: middle;\n",
       "    }\n",
       "\n",
       "    .dataframe tbody tr th {\n",
       "        vertical-align: top;\n",
       "    }\n",
       "\n",
       "    .dataframe thead th {\n",
       "        text-align: right;\n",
       "    }\n",
       "</style>\n",
       "<table border=\"1\" class=\"dataframe\">\n",
       "  <thead>\n",
       "    <tr style=\"text-align: right;\">\n",
       "      <th></th>\n",
       "      <th>Package</th>\n",
       "      <th>Version</th>\n",
       "    </tr>\n",
       "    <tr>\n",
       "      <th>No</th>\n",
       "      <th></th>\n",
       "      <th></th>\n",
       "    </tr>\n",
       "  </thead>\n",
       "  <tbody>\n",
       "    <tr>\n",
       "      <th>1</th>\n",
       "      <td>PyTorch</td>\n",
       "      <td>2.2.1</td>\n",
       "    </tr>\n",
       "    <tr>\n",
       "      <th>2</th>\n",
       "      <td>TorchAudio</td>\n",
       "      <td>2.2.1</td>\n",
       "    </tr>\n",
       "    <tr>\n",
       "      <th>3</th>\n",
       "      <td>TorchMetrics</td>\n",
       "      <td>1.3.2</td>\n",
       "    </tr>\n",
       "    <tr>\n",
       "      <th>4</th>\n",
       "      <td>NumPy</td>\n",
       "      <td>1.26.4</td>\n",
       "    </tr>\n",
       "    <tr>\n",
       "      <th>5</th>\n",
       "      <td>Pandas</td>\n",
       "      <td>2.2.1</td>\n",
       "    </tr>\n",
       "    <tr>\n",
       "      <th>6</th>\n",
       "      <td>Matplotlib</td>\n",
       "      <td>3.8.3</td>\n",
       "    </tr>\n",
       "    <tr>\n",
       "      <th>7</th>\n",
       "      <td>JupyterLab</td>\n",
       "      <td>4.1.5</td>\n",
       "    </tr>\n",
       "  </tbody>\n",
       "</table>\n",
       "</div>"
      ],
      "text/plain": [
       "         Package Version\n",
       "No                      \n",
       "1        PyTorch   2.2.1\n",
       "2     TorchAudio   2.2.1\n",
       "3   TorchMetrics   1.3.2\n",
       "4          NumPy  1.26.4\n",
       "5         Pandas   2.2.1\n",
       "6     Matplotlib   3.8.3\n",
       "7     JupyterLab   4.1.5"
      ]
     },
     "metadata": {},
     "output_type": "display_data"
    }
   ],
   "source": [
    "pkgs = {\n",
    "    'Package': [\n",
    "        'PyTorch', 'TorchAudio', 'TorchMetrics', 'NumPy', 'Pandas', 'Matplotlib', 'JupyterLab'\n",
    "    ],\n",
    "    'Version': [i.__version__ for i in [\n",
    "        torch, torchaudio, torchmetrics, np, pd, matplotlib, jlab\n",
    "    ]]\n",
    "}\n",
    "\n",
    "df_pkgs = pd.DataFrame(data = pkgs)\n",
    "df_pkgs.index.name = 'No'\n",
    "df_pkgs.index += 1\n",
    "\n",
    "display(df_pkgs)"
   ]
  },
  {
   "cell_type": "markdown",
   "id": "00c5414c-59b8-4b19-89f0-5f258afa6069",
   "metadata": {},
   "source": [
    "### Signal-to-Noise Ratio (1)"
   ]
  },
  {
   "cell_type": "code",
   "execution_count": 7,
   "id": "6341e064-8619-411b-acd8-b8c4af4838f5",
   "metadata": {},
   "outputs": [
    {
     "name": "stdout",
     "output_type": "stream",
     "text": [
      "Signal-to-Noise Ratio (SNR): 12.26 dB\n"
     ]
    }
   ],
   "source": [
    "# Path to clean and noisy speech signals\n",
    "clean_speech_path = '/Users/dl/@DmitryRyumin/Databases/DS_10283_2791/clean_testset_wav/p232_001.wav'\n",
    "noisy_speech_path = '/Users/dl/@DmitryRyumin/Databases/DS_10283_2791/noisy_testset_wav/p232_001.wav'\n",
    "\n",
    "clean_speech_path = '/Users/dl/@DmitryRyumin/Databases/DS_10283_2791/clean_trainset_28spk_wav/p226_001.wav'\n",
    "noisy_speech_path = '/Users/dl/@DmitryRyumin/Databases/DS_10283_2791/noisy_trainset_28spk_wav/p226_001.wav'\n",
    "\n",
    "# Load clean and noisy speech signals\n",
    "clean_speech, sample_rate = torchaudio.load(clean_speech_path)\n",
    "noisy_speech, _ = torchaudio.load(noisy_speech_path)\n",
    "\n",
    "# Ensure clean and noisy signals have the same length\n",
    "assert clean_speech.shape == noisy_speech.shape, \"Clean and noisy signal tensors must have the same shape\"\n",
    "\n",
    "# Compute SNR\n",
    "snr = torchmetrics.audio.SignalNoiseRatio()(noisy_speech, clean_speech)\n",
    "\n",
    "# Print result\n",
    "print(f'Signal-to-Noise Ratio (SNR): {snr:.2f} dB')"
   ]
  },
  {
   "cell_type": "markdown",
   "id": "5c66c7f5-0116-4c82-afc0-6b0cdce447f3",
   "metadata": {},
   "source": [
    "### Signal-to-Noise Ratio (2)"
   ]
  },
  {
   "cell_type": "code",
   "execution_count": 8,
   "id": "f1bf689b-0476-43c5-a2be-458384f6eef7",
   "metadata": {},
   "outputs": [
    {
     "name": "stdout",
     "output_type": "stream",
     "text": [
      "Signal-to-Noise Ratio (SNR): 12.26 dB\n"
     ]
    }
   ],
   "source": [
    "def compute_snr(clean_signal, noisy_signal):\n",
    "    \"\"\"\n",
    "    Compute the Signal-to-Noise Ratio (SNR) between a clean and noisy signal.\n",
    "\n",
    "    Args:\n",
    "        clean_signal (torch.Tensor): The clean signal tensor.\n",
    "        noisy_signal (torch.Tensor): The noisy signal tensor.\n",
    "\n",
    "    Returns:\n",
    "        float: The computed Signal-to-Noise Ratio (SNR) in decibels (dB).\n",
    "\n",
    "    Raises:\n",
    "        AssertionError: If the clean and noisy signal tensors have different shapes.\n",
    "    \"\"\"\n",
    "    # Check if clean and noisy signal tensors have the same shape\n",
    "    assert clean_signal.shape == noisy_signal.shape, \"Clean and noisy signal tensors must have the same shape\"\n",
    "\n",
    "    # Compute the mean power of the clean signal\n",
    "    signal_power = torch.mean(clean_signal ** 2, dim=-1, keepdim=True)\n",
    "\n",
    "    # Compute the mean power of the noise (noisy signal - clean signal)\n",
    "    noise_power = torch.mean((noisy_signal - clean_signal) ** 2, dim=-1, keepdim=True)\n",
    "\n",
    "    # Compute the SNR in decibels (dB)\n",
    "    snr = 10 * torch.log10(signal_power / noise_power)\n",
    "\n",
    "    return snr.squeeze()\n",
    "\n",
    "# Path to clean and noisy speech signals\n",
    "clean_speech_path = '/Users/dl/@DmitryRyumin/Databases/DS_10283_2791/clean_testset_wav/p232_001.wav'\n",
    "noisy_speech_path = '/Users/dl/@DmitryRyumin/Databases/DS_10283_2791/noisy_testset_wav/p232_001.wav'\n",
    "\n",
    "clean_speech_path = '/Users/dl/@DmitryRyumin/Databases/DS_10283_2791/clean_trainset_28spk_wav/p226_001.wav'\n",
    "noisy_speech_path = '/Users/dl/@DmitryRyumin/Databases/DS_10283_2791/noisy_trainset_28spk_wav/p226_001.wav'\n",
    "\n",
    "# Load clean and noisy speech signals\n",
    "clean_speech, _ = torchaudio.load(clean_speech_path)\n",
    "noisy_speech, _ = torchaudio.load(noisy_speech_path)\n",
    "\n",
    "# Compute SNR\n",
    "snr = compute_snr(clean_speech, noisy_speech)\n",
    "\n",
    "# Print result\n",
    "print(f'Signal-to-Noise Ratio (SNR): {snr:.2f} dB')"
   ]
  }
 ],
 "metadata": {
  "kernelspec": {
   "display_name": "Python 3 (ipykernel)",
   "language": "python",
   "name": "python3"
  },
  "language_info": {
   "codemirror_mode": {
    "name": "ipython",
    "version": 3
   },
   "file_extension": ".py",
   "mimetype": "text/x-python",
   "name": "python",
   "nbconvert_exporter": "python",
   "pygments_lexer": "ipython3",
   "version": "3.10.11"
  }
 },
 "nbformat": 4,
 "nbformat_minor": 5
}
